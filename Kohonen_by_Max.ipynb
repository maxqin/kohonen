{
 "cells": [
  {
   "cell_type": "markdown",
   "metadata": {},
   "source": [
    "# Self Organising Map Challenge\n",
    "\n",
    "## The Kohonen Network\n",
    "\n",
    "The Kohonen Self Organizing Map (SOM) provides a data visualization technique which helps to understand high dimensional data by reducing the dimensions of data to a map. SOM also represents clustering concept by grouping similar data together.\n",
    "\n",
    "Unlike other learning technique in neural networks, training a SOM requires no target vector. A SOM learns to classify the training data without any external supervision.\n",
    "\n",
    "![Network](http://www.pitt.edu/~is2470pb/Spring05/FinalProjects/Group1a/tutorial/kohonen1.gif)\n",
    "\n",
    "### Structure\n",
    "A network has a width and a height that descibes the grid of nodes.  For example, the grid may be 4x4, and so there would be 16 nodes.\n",
    "\n",
    "Each node has a weight for each value in the input vector.  A weight is simply a float value that the node multiplies the input value by to determine how influential it is (see below)\n",
    "\n",
    "Each node has a set of weights that match the size of the input vector.  For example, if the input vector has 10 elements, each node would have 10 weights.\n",
    "\n",
    "### Training \n",
    "To train the network\n",
    "\n",
    "1. Each node's weights are initialized.\n",
    "2. We enumerate through the training data for some number of iterations (repeating if necessary).  The current value we are training against will be referred to as the `current input vector`\n",
    "3. Every node is examined to calculate which one's weights are most like the input vector. The winning node is commonly known as the Best Matching Unit (BMU).\n",
    "4. The radius of the neighbourhood of the BMU is now calculated. This is a value that starts large, typically set to the 'radius' of the lattice,  but diminishes each time-step. Any nodes found within this radius are deemed to be inside the BMU's neighbourhood.\n",
    "5. Each neighbouring node's (the nodes found in step 4) weights are adjusted to make them more like the input vector. The closer a node is to the BMU, the more its weights get altered.\n",
    "6. Go to step 2 until we've completed N iterations.\n",
    "    \n",
    "\n",
    "### Calculating the Best Matching Unit (BMU)\n",
    "\n",
    "To determine the best matching unit, one method is to iterate through all the nodes and calculate the Euclidean distance between each node's weight vector and the current input vector. The node with a weight vector closest to the input vector is tagged as the BMU.\n",
    "\n",
    "The Euclidean distance $\\mathsf{distance}_{i}$ (from the input vector $V$ to the $i$th node's weights $W_i$)is given as (using Pythagoras):\n",
    "\n",
    "$$ \\mathsf{distance}_{i}=\\sqrt{\\sum_{k=0}^{k=n}(V_k - W_{i_k})^2}$$\n",
    "\n",
    "where V is the current input vector and $W_i$ is the node's weight vector.  $n$ is the size of the input & weight vector.\n",
    "\n",
    "*Note*: $V$ and $W$ are vectors.  $V$ is the input vector, and $W_i$ is the weight vector of the $i$th node.  $V_k$ and $W_{i_k}$ represent the $k$'th value within those vectors.  \n",
    "\n",
    "The BMU is the node with the minimal distance for the current input vector\n",
    "\n",
    "### Calculating the Neighbourhood Radius\n",
    "\n",
    "The next step is to calculate which of the other nodes are within the BMU's neighbourhood. All these nodes will have their weight vectors altered.\n",
    "\n",
    "First we calculate what the radius of the neighbourhood should be and then use Pythagoras to determine if each node is within the radial distance or not.\n",
    "\n",
    "A unique feature of the Kohonen learning algorithm is that the area of the neighbourhood shrinks over time. To do this we use the exponential decay function:\n",
    "\n",
    "Given a desired number of training iterations $n$:\n",
    "$$n_{\\mathsf{max iterations}} = 100$$\n",
    "\n",
    "Calculate the radius $\\sigma_t$ at iteration number $t$:\n",
    "\n",
    "$$\\sigma_t = \\sigma_0 \\exp\\left(- \\frac{t}{\\lambda} \\right) \\qquad t = 1,2,3,4... $$\n",
    "\n",
    "Where $\\sigma_0$ denotes the neighbourhood radius at iteration $t=0$, $t$ is the current iteration. We define $\\sigma_0$ (the initial radius) and $\\lambda$ (the time constant) as below:\n",
    "\n",
    "$$\\sigma_0 = \\frac{\\max(width,height)}{2} \\qquad \\lambda = \\frac{n_{\\mathsf{max iterations}}}{\\log(\\sigma_0)} $$\n",
    "\n",
    "Where $width$ & $height$ are the width and height of the grid.\n",
    "\n",
    "### Calculating the Learning Rate\n",
    "\n",
    "We define the initial leanring rate $\\alpha_0$ at iteration $t = 0$ as:\n",
    "$$\\alpha_0 = 0.1$$\n",
    "\n",
    "So, we can calculate the learning rate at a given iteration t as:\n",
    "\n",
    "$$\\alpha_t = \\alpha_0 \\exp \\left(- \\frac{t}{\\lambda} \\right) $$\n",
    "\n",
    "where $t$ is the iteration number, $\\lambda$ is the time constant (calculated above)\n",
    "        \n",
    "### Calculating the Influence\n",
    "\n",
    "As well as the learning rate, we need to calculate the influence $\\theta_t$ of the learning/training at a given iteration $t$.  \n",
    "\n",
    "So for each node, we need to caclulate the euclidean distance $d_i$ from the BMU to that node.  Similar to when we calculate the distance to find the BMU, we use Pythagoras.  The current ($i$th) node's x position is given by $x(W_i)$, and the BMU's x position is, likewise, given by $x(Z)$.  Similarly, $y()$ returns the y position of a node.\n",
    "\n",
    "$$ d_{i}=\\sqrt{(x(W_i) - x(Z))^2 + (y(W_i) - y(Z))^2} $$\n",
    "\n",
    "Then, the influence decays over time according to:\n",
    "\n",
    "$$\\theta_t = \\exp \\left( - \\frac{d_{i}^2}{2\\sigma_t^2} \\right) $$\n",
    "\n",
    "Where $\\sigma_t$ is the neighbourhood radius at iteration $t$ as calculated above. \n",
    "\n",
    "Note: You will need to come up with an approach to x() and y().\n",
    "\n",
    "\n",
    "### Updating the Weights\n",
    "\n",
    "To update the weights of a given node, we use:\n",
    "\n",
    "$$W_{i_{t+1}} = W_{i_t} + \\alpha_t \\theta_t (V_t - W_{i_t})$$\n",
    "        \n",
    "So $W_{i_{t+1}}$ is the new value of the weight for the $i$th node, $V_t$ is the current value of the training data, $W_{i_t}$ is the current weight and $\\alpha_t$ and $\\theta_t$ are the learning rate and influence calculated above.\n",
    "\n",
    "*Note*: the $W$ and $V$ are vectors "
   ]
  },
  {
   "cell_type": "markdown",
   "metadata": {},
   "source": [
    "## Challenge\n",
    "\n",
    "In this challenge, you need to implement a SOM such that it can categorise a set of random 3-dimensional colours.  The output should be an image of the organised data.  \n",
    "\n",
    "### Expectations\n",
    "- You are expected to detail your decisions & thinking in comments\n",
    "- You may use any language you like (although the examples given below are using Python)\n",
    "- avoid using too many libraries that would do too much of the work for you.\n",
    "- You can use code below to generate the trainig data of 10 colours:"
   ]
  },
  {
   "cell_type": "markdown",
   "metadata": {},
   "source": [
    "### 1. Implement a Kohonen network\n",
    "- Use the above description to implement a Kohonen network\n",
    "- Make sure you can configure the size of the input vector and the size of the map\n",
    "- Make sure node's weights are initialized to random values"
   ]
  },
  {
   "cell_type": "code",
   "execution_count": 1,
   "metadata": {},
   "outputs": [],
   "source": [
    "# Implement the network...\n",
    "import random\n",
    "import math\n",
    "import numpy as np\n",
    "import datetime\n",
    "\n",
    "# Generate Kohonen network\n",
    "def kohonen_network(n, size_X, size_Y):\n",
    "    \"\"\"Return a kohonen netowrk with widith size_X, lenght size_Y and dimensial n.\n",
    "    \"\"\"\n",
    "    kohonen = np.random.random((size_X,size_Y,n))\n",
    "    return kohonen"
   ]
  },
  {
   "cell_type": "code",
   "execution_count": 2,
   "metadata": {},
   "outputs": [],
   "source": [
    "def euclidean_distance(arr1, arr2):\n",
    "    \"\"\"Return the euclidean distance of two arrays\n",
    "    \"\"\"\n",
    "    dist = np.linalg.norm(arr1-arr2)\n",
    "    return dist\n",
    "\n",
    "def position(index):\n",
    "    \"\"\"Return the x and y index of a integer in a kohonen network with size of size_X*size_Y\n",
    "    \"\"\"\n",
    "    x_index = index//size_X\n",
    "    y_index = index%size_X\n",
    "    return np.array([x_index, y_index]) \n",
    "\n",
    "def index_to_weight(index,kohonen):\n",
    "    \"\"\"Return a weight vector in the kohonen by its index\n",
    "    \"\"\"\n",
    "    x_index = index//size_X\n",
    "    y_index = index%size_X\n",
    "    return kohonen[x_index][y_index]"
   ]
  },
  {
   "cell_type": "code",
   "execution_count": 3,
   "metadata": {},
   "outputs": [],
   "source": [
    "def update_weight(BMU,t):\n",
    "    \"\"\"Updates all the neighbour nodes' weights of a BMU in iteration t.\n",
    "    \"\"\"\n",
    "    # Calculating the Neighbourhood Radius\n",
    "    sigma_t = sigma_0*math.e**(-t/lambda_)\n",
    "\n",
    "    # Calculating the learning rate\n",
    "    alpha_t = alpha_0*math.e**(-t/lambda_)\n",
    "\n",
    "    # Find all neighbour nodes of BMU and update their weights\n",
    "    for current_node in range(size_X*size_Y):\n",
    "        if  euclidean_distance(position(current_node),position(BMU)) < sigma_t: # means it is in its neighbour\n",
    "            d_i = euclidean_distance(position(BMU),position(current_node)) # remeber here is the position\n",
    "            theta_t = math.e**(-d_i*d_i/(2*sigma_t*sigma_t)) # Calculating the influence\n",
    "            current_X = current_node//size_X\n",
    "            current_Y = current_node%size_X\n",
    "            # Updating the weights\n",
    "            kohonen[current_X][current_Y] = kohonen[current_X][current_Y] + alpha_t*theta_t*(current_input_vector - kohonen[current_X][current_Y])"
   ]
  },
  {
   "cell_type": "markdown",
   "metadata": {},
   "source": [
    "### 2. Train a 10x10 network over 100 iterations\n",
    "\n",
    "- Training data is a random set of 20 colours\n",
    "- How long does this take?\n",
    "- What does the map look like? (You will need to translate the weights of each node in the map to pixel data)"
   ]
  },
  {
   "cell_type": "code",
   "execution_count": 4,
   "metadata": {},
   "outputs": [],
   "source": [
    "#initialize parameters:sigma - radius, alpha - learning rate, theta - influence\n",
    "size_X = 10\n",
    "size_Y = 10\n",
    "max_iterations = 100\n",
    "sigma_0 = max(size_X,size_Y)/2\n",
    "alpha_0 = 0.1\n",
    "lambda_ = max_iterations/math.log(sigma_0)"
   ]
  },
  {
   "cell_type": "code",
   "execution_count": 5,
   "metadata": {},
   "outputs": [],
   "source": [
    "# generating kohonen network\n",
    "np.random.seed =42\n",
    "n = 3\n",
    "kohonen = kohonen_network(n, size_X, size_Y)\n",
    "\n",
    "# Generate Traing Data\n",
    "train_data_size = 20\n",
    "train_data = np.random.random((train_data_size,3))"
   ]
  },
  {
   "cell_type": "code",
   "execution_count": 6,
   "metadata": {},
   "outputs": [
    {
     "name": "stdout",
     "output_type": "stream",
     "text": [
      "training time is 0.164898 seconds with 100 iterations in the 10 * 10 kohonen network\n",
      "Visulisation with 100 iterations of the 10 * 10 kohonen network\n"
     ]
    },
    {
     "data": {
      "image/png": "[encoded data removed]",
      "text/plain": [
       "<Figure size 432x288 with 1 Axes>"
      ]
     },
     "metadata": {
      "needs_background": "light"
     },
     "output_type": "display_data"
    }
   ],
   "source": [
    "# updating weights\n",
    "a = datetime.datetime.now()\n",
    "for t in range(1,max_iterations+1): # t is the current iteration t = 1,2,3,..max_iteration\n",
    "    current_input_vector = train_data[(t-1)%train_data_size]\n",
    "    temp_dist = []\n",
    "    for i in range(size_X*size_Y):\n",
    "        x_index = i//size_X\n",
    "        y_index = i%size_X\n",
    "        dist = euclidean_distance(current_input_vector,kohonen[x_index][y_index])\n",
    "        temp_dist.append(dist)\n",
    "    BMU = temp_dist.index(min(temp_dist))\n",
    "    update_weight(BMU,t)\n",
    "b = datetime.datetime.now()\n",
    "print(\"training time is\",(b-a).total_seconds(), \"seconds with\", max_iterations, \"iterations in the\",size_X,\"*\",size_Y,\"kohonen network\")\n",
    "\n",
    "# visulisation\n",
    "import matplotlib.pyplot as plt\n",
    "%matplotlib inline\n",
    "plt.imshow(kohonen)\n",
    "print(\"Visulisation with\", max_iterations, \"iterations of the\",size_X,\"*\",size_Y,\"kohonen network\")"
   ]
  },
  {
   "cell_type": "markdown",
   "metadata": {},
   "source": [
    "- What does this look like if you perform 200 & 500 iterations?"
   ]
  },
  {
   "cell_type": "code",
   "execution_count": 7,
   "metadata": {},
   "outputs": [
    {
     "name": "stdout",
     "output_type": "stream",
     "text": [
      "training time is 0.303514 seconds with 200 iterations in the 10 * 10 kohonen network\n",
      "Visulisation with 200 iterations of the 10 * 10 kohonen network\n"
     ]
    },
    {
     "data": {
      "image/png": "[encoded data removed]",
      "text/plain": [
       "<Figure size 432x288 with 1 Axes>"
      ]
     },
     "metadata": {
      "needs_background": "light"
     },
     "output_type": "display_data"
    }
   ],
   "source": [
    "#initialize parameters:sigma - radius, alpha - learning rate, theta - influence\n",
    "size_X = 10\n",
    "size_Y = 10\n",
    "max_iterations = 200\n",
    "sigma_0 = max(size_X,size_Y)/2\n",
    "alpha_0 = 0.1\n",
    "lambda_ = max_iterations/math.log(sigma_0)\n",
    "\n",
    "# generating kohonen network\n",
    "np.random.seed =42\n",
    "n = 3\n",
    "kohonen = kohonen_network(n, size_X, size_Y)\n",
    "\n",
    "# Generate Traing Data\n",
    "train_data_size = 20\n",
    "train_data = np.random.random((train_data_size,3))\n",
    "\n",
    "# updating weights\n",
    "a = datetime.datetime.now()\n",
    "for t in range(1,max_iterations+1): # t is the current iteration t = 1,2,3,..max_iteration\n",
    "    current_input_vector = train_data[(t-1)%train_data_size]\n",
    "    temp_dist = []\n",
    "    for i in range(size_X*size_Y):\n",
    "        x_index = i//size_X\n",
    "        y_index = i%size_X\n",
    "        dist = euclidean_distance(current_input_vector,kohonen[x_index][y_index])\n",
    "        temp_dist.append(dist)\n",
    "    BMU = temp_dist.index(min(temp_dist))\n",
    "    update_weight(BMU,t)\n",
    "b = datetime.datetime.now()\n",
    "print(\"training time is\",(b-a).total_seconds(), \"seconds with\", max_iterations, \"iterations in the\",size_X,\"*\",size_Y,\"kohonen network\")\n",
    "\n",
    "# visulisation\n",
    "import matplotlib.pyplot as plt\n",
    "%matplotlib inline\n",
    "plt.imshow(kohonen)\n",
    "print(\"Visulisation with\", max_iterations, \"iterations of the\",size_X,\"*\",size_Y,\"kohonen network\")"
   ]
  },
  {
   "cell_type": "code",
   "execution_count": 8,
   "metadata": {},
   "outputs": [
    {
     "name": "stdout",
     "output_type": "stream",
     "text": [
      "training time is 0.742866 seconds with 500 iterations in the 10 * 10 kohonen network\n",
      "Visulisation with 500 iterations of the 10 * 10 kohonen network\n"
     ]
    },
    {
     "data": {
      "image/png": "[encoded data removed]",
      "text/plain": [
       "<Figure size 432x288 with 1 Axes>"
      ]
     },
     "metadata": {
      "needs_background": "light"
     },
     "output_type": "display_data"
    }
   ],
   "source": [
    "#initialize parameters:sigma - radius, alpha - learning rate, theta - influence\n",
    "size_X = 10\n",
    "size_Y = 10\n",
    "max_iterations = 500\n",
    "sigma_0 = max(size_X,size_Y)/2\n",
    "alpha_0 = 0.1\n",
    "lambda_ = max_iterations/math.log(sigma_0)\n",
    "\n",
    "# generating kohonen network\n",
    "np.random.seed =42\n",
    "n = 3\n",
    "kohonen = kohonen_network(n, size_X, size_Y)\n",
    "\n",
    "# Generate Traing Data\n",
    "train_data_size = 20\n",
    "train_data = np.random.random((train_data_size,3))\n",
    "\n",
    "# updating weights\n",
    "a = datetime.datetime.now()\n",
    "for t in range(1,max_iterations+1): # t is the current iteration t = 1,2,3,..max_iteration\n",
    "    current_input_vector = train_data[(t-1)%train_data_size]\n",
    "    temp_dist = []\n",
    "    for i in range(size_X*size_Y):\n",
    "        x_index = i//size_X\n",
    "        y_index = i%size_X\n",
    "        dist = euclidean_distance(current_input_vector,kohonen[x_index][y_index])\n",
    "        temp_dist.append(dist)\n",
    "    BMU = temp_dist.index(min(temp_dist))\n",
    "    update_weight(BMU,t)\n",
    "b = datetime.datetime.now()\n",
    "print(\"training time is\",(b-a).total_seconds(), \"seconds with\", max_iterations, \"iterations in the\",size_X,\"*\",size_Y,\"kohonen network\")\n",
    "\n",
    "# visulisation\n",
    "import matplotlib.pyplot as plt\n",
    "%matplotlib inline\n",
    "plt.imshow(kohonen)\n",
    "print(\"Visulisation with\", max_iterations, \"iterations of the\",size_X,\"*\",size_Y,\"kohonen network\")"
   ]
  },
  {
   "cell_type": "markdown",
   "metadata": {},
   "source": [
    "### 3. Train a 100x100 network over 1000 iterations\n",
    "\n",
    "- This network will likely be significantly slower to train\n",
    "- What could you do to improve performance?\n",
    "- What does the network look like after 1000 iterations?\n",
    "\n",
    "You should end up with something like below:"
   ]
  },
  {
   "cell_type": "code",
   "execution_count": 9,
   "metadata": {},
   "outputs": [
    {
     "name": "stdout",
     "output_type": "stream",
     "text": [
      "training time is 145.862167 seconds with 1000 iterations in the 100 * 100 kohonen network\n",
      "Visulisation with 1000 iterations of the 100 * 100 kohonen network\n"
     ]
    },
    {
     "data": {
      "image/png": "[encoded data removed]",
      "text/plain": [
       "<Figure size 432x288 with 1 Axes>"
      ]
     },
     "metadata": {
      "needs_background": "light"
     },
     "output_type": "display_data"
    }
   ],
   "source": [
    "#initialize parameters:sigma - radius, alpha - learning rate, theta - influence\n",
    "size_X = 100\n",
    "size_Y = 100\n",
    "max_iterations = 1000\n",
    "sigma_0 = max(size_X,size_Y)/2\n",
    "alpha_0 = 0.1\n",
    "lambda_ = max_iterations/math.log(sigma_0)\n",
    "\n",
    "# generating kohonen network\n",
    "np.random.seed =42\n",
    "n = 3\n",
    "kohonen = kohonen_network(n, size_X, size_Y)\n",
    "\n",
    "# Generate Traing Data\n",
    "train_data_size = 20\n",
    "train_data = np.random.random((train_data_size,3))\n",
    "\n",
    "# updating weights\n",
    "a = datetime.datetime.now()\n",
    "for t in range(1,max_iterations+1): # t is the current iteration t = 1,2,3,..max_iteration\n",
    "    current_input_vector = train_data[(t-1)%train_data_size]\n",
    "    temp_dist = []\n",
    "    for i in range(size_X*size_Y):\n",
    "        x_index = i//size_X\n",
    "        y_index = i%size_X\n",
    "        dist = euclidean_distance(current_input_vector,kohonen[x_index][y_index])\n",
    "        temp_dist.append(dist)\n",
    "    BMU = temp_dist.index(min(temp_dist))\n",
    "    update_weight(BMU,t)\n",
    "b = datetime.datetime.now()\n",
    "print(\"training time is\",(b-a).total_seconds(), \"seconds with\", max_iterations, \"iterations in the\",size_X,\"*\",size_Y,\"kohonen network\")\n",
    "\n",
    "# visulisation\n",
    "import matplotlib.pyplot as plt\n",
    "%matplotlib inline\n",
    "plt.imshow(kohonen)\n",
    "print(\"Visulisation with\", max_iterations, \"iterations of the\",size_X,\"*\",size_Y,\"kohonen network\")"
   ]
  },
  {
   "cell_type": "markdown",
   "metadata": {},
   "source": [
    "#### What could you do to improve performance?\n",
    "According to the several visualisation results, similar data (weights) tend to gather together based on the training data. Thus, we could:\n",
    "1. Select N input vectors from the training such that they have the farthest average distance between each pair. \n",
    "2. Use the N selected vectors to divide the Kohonen network into different partitions by Kd-tree or binary space partitioning tree algorithm.\n",
    "3. Train each partition separately. As the size of the partition is much smaller than the original one, the training time can be largely reduced."
   ]
  }
 ],
 "metadata": {
  "kernelspec": {
   "display_name": "Python 3",
   "language": "python",
   "name": "python3"
  },
  "language_info": {
   "codemirror_mode": {
    "name": "ipython",
    "version": 3
   },
   "file_extension": ".py",
   "mimetype": "text/x-python",
   "name": "python",
   "nbconvert_exporter": "python",
   "pygments_lexer": "ipython3",
   "version": "3.7.3"
  }
 },
 "nbformat": 4,
 "nbformat_minor": 2
}
